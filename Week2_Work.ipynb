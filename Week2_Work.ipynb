{
 "cells": [
  {
   "cell_type": "code",
   "execution_count": 1,
   "id": "6c921401-2374-4591-9e5d-5151340212f2",
   "metadata": {},
   "outputs": [],
   "source": [
    "#Develop the Calculator using the Python Conditional Statements & Tkinter GUI"
   ]
  },
  {
   "cell_type": "code",
   "execution_count": 2,
   "id": "c5619275-6f8f-4053-a0b2-44336b1adf2a",
   "metadata": {},
   "outputs": [],
   "source": [
    "import tkinter as tk\n",
    "import tkinter.messagebox"
   ]
  },
  {
   "cell_type": "code",
   "execution_count": 3,
   "id": "8cd868c4-3dd8-4d50-b7dd-4beac5245a09",
   "metadata": {},
   "outputs": [],
   "source": [
    "def myclick(number):\n",
    "    entry.insert(tk.END,number)"
   ]
  },
  {
   "cell_type": "code",
   "execution_count": 4,
   "id": "1871476d-dbf6-4392-90a0-4fd84a408e36",
   "metadata": {},
   "outputs": [],
   "source": [
    "def equal():\n",
    "    try:\n",
    "        y = str(eval(entry.get()))\n",
    "        entry.delete(0, tk.END)\n",
    "        entry.insert(0, y)\n",
    "    except:\n",
    "        messagebox.showinfo(\"Error\", \"Syntax Error\")"
   ]
  },
  {
   "cell_type": "code",
   "execution_count": 5,
   "id": "70871314-71dd-454f-a875-7d1c00587847",
   "metadata": {},
   "outputs": [],
   "source": [
    "def clear():\n",
    "    entry.delete(0,tk.END)"
   ]
  },
  {
   "cell_type": "code",
   "execution_count": 6,
   "id": "d2e17868-915c-41fe-b2a6-12ebd180fbf8",
   "metadata": {},
   "outputs": [],
   "source": [
    "window = tk.Tk()\n",
    "window.title('Calculator')\n",
    "\n",
    "frame = tk.Frame(window, bg=\"black\", padx=10)\n",
    "frame.pack()"
   ]
  },
  {
   "cell_type": "code",
   "execution_count": 7,
   "id": "afc6f454-801f-4ae3-b97e-3c1bdfc873d9",
   "metadata": {},
   "outputs": [],
   "source": [
    "entry = tk.Entry(frame, relief=tk.SUNKEN, borderwidth=3, width=30)\n",
    "entry.grid(row=0, column=0, columnspan=3, ipady=2, pady=2)"
   ]
  },
  {
   "cell_type": "code",
   "execution_count": 8,
   "id": "34a50e7c-bec2-40b5-a102-88eff6ed2b17",
   "metadata": {},
   "outputs": [],
   "source": [
    "buttons = [\n",
    "    ('1', 1, 0), ('2', 1, 1), ('3', 1, 2),\n",
    "    ('4', 2, 0), ('5', 2, 1), ('6', 2, 2),\n",
    "    ('7', 3, 0), ('8', 3, 1), ('9', 3, 2),\n",
    "    ('0', 4, 1),\n",
    "    ('+', 5, 0), ('-', 5, 1), ('*', 5, 2),\n",
    "    ('/', 6, 0),\n",
    "    ('clear', 6, 1, 2),\n",
    "    ('=', 7, 0, 3)\n",
    "]"
   ]
  },
  {
   "cell_type": "code",
   "execution_count": 9,
   "id": "3e7cae14-94ad-44e2-b0c7-6393b29719c5",
   "metadata": {},
   "outputs": [],
   "source": [
    "for button in buttons:\n",
    "    text, row, column = button[0], button[1], button[2]\n",
    "    colspan = button[3] if len(button) > 3 else 1\n",
    "    if text == 'clear':\n",
    "        btn = tk.Button(frame, text=text, padx=15, pady=5, width=12, command=clear)\n",
    "    elif text == '=':\n",
    "        btn = tk.Button(frame, text=text, padx=15, pady=5, width=9, command=equal)\n",
    "    else:\n",
    "        btn = tk.Button(frame, text=text, padx=15, pady=5, width=3, command=lambda t=text: myclick(t))\n",
    "    btn.grid(row=row, column=column, columnspan=colspan, pady=2)\n",
    "\n",
    "window.mainloop()"
   ]
  },
  {
   "cell_type": "code",
   "execution_count": null,
   "id": "613bddda-f4cb-434e-a057-90b96714dce5",
   "metadata": {},
   "outputs": [],
   "source": []
  }
 ],
 "metadata": {
  "kernelspec": {
   "display_name": "Python 3 (ipykernel)",
   "language": "python",
   "name": "python3"
  },
  "language_info": {
   "codemirror_mode": {
    "name": "ipython",
    "version": 3
   },
   "file_extension": ".py",
   "mimetype": "text/x-python",
   "name": "python",
   "nbconvert_exporter": "python",
   "pygments_lexer": "ipython3",
   "version": "3.11.7"
  }
 },
 "nbformat": 4,
 "nbformat_minor": 5
}
