{
 "cells": [
  {
   "cell_type": "code",
   "execution_count": 1,
   "id": "560e9245-cd6d-4af3-9db4-017ba7a99281",
   "metadata": {},
   "outputs": [
    {
     "name": "stdin",
     "output_type": "stream",
     "text": [
      "Enter the Number of Rows :  8\n"
     ]
    },
    {
     "name": "stdout",
     "output_type": "stream",
     "text": [
      "*\n",
      "**\n",
      "***\n",
      "****\n",
      "*****\n",
      "******\n",
      "*******\n",
      "********\n"
     ]
    }
   ],
   "source": [
    "#Creating the Lower Triangular Pattern\n",
    "\n",
    "def lower_triangular(n):\n",
    "    for i in range(1,n+1):\n",
    "        print(\"*\" * i)\n",
    "\n",
    "#__main__\n",
    "x=int(input(\"Enter the Number of Rows : \"))\n",
    "#Function Call\n",
    "lower_triangular(x)"
   ]
  },
  {
   "cell_type": "code",
   "execution_count": 2,
   "id": "853e77e4-143a-41c4-956d-e5fc9eee2fe5",
   "metadata": {},
   "outputs": [
    {
     "name": "stdin",
     "output_type": "stream",
     "text": [
      "Enter the Number of Rows :  9\n"
     ]
    },
    {
     "name": "stdout",
     "output_type": "stream",
     "text": [
      "*********\n",
      "********\n",
      "*******\n",
      "******\n",
      "*****\n",
      "****\n",
      "***\n",
      "**\n",
      "*\n"
     ]
    }
   ],
   "source": [
    "#Creating the Upper Triangular Pattern\n",
    "\n",
    "def upper_triangular(n):\n",
    "    for i in range(n,0,-1):\n",
    "        print(\"*\" * i)\n",
    "\n",
    "#__main__\n",
    "x=int(input(\"Enter the Number of Rows : \"))\n",
    "#Function Call\n",
    "upper_triangular(x)"
   ]
  },
  {
   "cell_type": "code",
   "execution_count": 3,
   "id": "034369c4-7fca-4475-983e-9793cb605794",
   "metadata": {},
   "outputs": [
    {
     "name": "stdin",
     "output_type": "stream",
     "text": [
      "Enter the Number of Rows :  7\n"
     ]
    },
    {
     "name": "stdout",
     "output_type": "stream",
     "text": [
      "      * \n",
      "     * * \n",
      "    * * * \n",
      "   * * * * \n",
      "  * * * * * \n",
      " * * * * * * \n",
      "* * * * * * * \n"
     ]
    }
   ],
   "source": [
    "#Creating the Pyramid Pattern\n",
    "\n",
    "def pyramid_pattern(n):\n",
    "    for i in range(n):\n",
    "        print(' ' * (n - i - 1) + '* ' * (i + 1))\n",
    "\n",
    "#__main__\n",
    "x=int(input(\"Enter the Number of Rows : \"))\n",
    "#Function Call\n",
    "pyramid_pattern(x)"
   ]
  },
  {
   "cell_type": "code",
   "execution_count": null,
   "id": "3157fb7f-95ac-4cca-a1e2-cf41e09de457",
   "metadata": {},
   "outputs": [],
   "source": []
  }
 ],
 "metadata": {
  "kernelspec": {
   "display_name": "Python 3 (ipykernel)",
   "language": "python",
   "name": "python3"
  },
  "language_info": {
   "codemirror_mode": {
    "name": "ipython",
    "version": 3
   },
   "file_extension": ".py",
   "mimetype": "text/x-python",
   "name": "python",
   "nbconvert_exporter": "python",
   "pygments_lexer": "ipython3",
   "version": "3.11.7"
  }
 },
 "nbformat": 4,
 "nbformat_minor": 5
}
